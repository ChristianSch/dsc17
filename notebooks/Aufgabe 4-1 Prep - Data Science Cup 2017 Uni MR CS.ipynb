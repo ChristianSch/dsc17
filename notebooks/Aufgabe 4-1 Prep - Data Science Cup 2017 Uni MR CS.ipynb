{
 "cells": [
  {
   "cell_type": "markdown",
   "metadata": {},
   "source": [
    "# Aufgabe 4\n",
    "**Problem Description:**\n",
    "Gegeben ist ein Warenbestand mit verschiedenen Items in unterschiedlichen Stückzahlen. Ziel dieser Aufgabe ist es, eine Menge von Verkaufsgeboten so zu definieren, dass der gesamte Verkaufserlös maximiert wird. Ein Verkaufsgebot wird definiert durch einen Ort (stationsid), ein Datum, ein Item, die zu verkaufende Stückzahl und einen Stückpreis. Es dürfen beliebig viele Verkaufsgebote an beliebig vielen Orten eingestellt werden. Verkaufsgebote sind nur an dem Tag und in der Station gültig für die sie definiert wurden.\n",
    "\n",
    "Verkäufe in anderen Stationen werden durch Angebote in regional nahegelegenen Stationen nicht beeinflusst. Gebote sind auch an durch Spieler einnehmbaren Stationen möglich (stationid beginnt mit 61..., siehe PDF “Lies Mich”) und werden regulär bewertet.\n",
    "\n",
    "Da es keine effiziente Möglichkeit gibt, den Teilnehmern Rückmeldungen zu eventuellen Restbeständen zu geben, verfallen nicht verkaufte Einheiten und stehen für weitere Verkaufsgebote nicht mehr zur Verfügung.\n",
    "\n",
    "_Die aufsummierte Stückzahl eines Items über alle Verkaufsgebote darf nicht höher als der Warenbestand des Items sein, d.h. zum Monatsbeginn ist der gesamte Warenbestand gegeben und es kommen keine weiteren Stückzahlen hinzu, Leerverkäufe sind nicht erlaubt._\n",
    "\n",
    "Der zeitliche Rahmen für alle Verkäufe ist der Januar 2016. Als Datengrundlage stehen die Stückzahlen und durchschnittlichen Preise aller Kauf- und Verkaufsgebote sowie der tatsächlichen Verkäufe pro Tag, Item und Station / System bis zum 23.12.2015 zur Verfügung.\n",
    "\n",
    "####  `TL;DR`\n",
    "* Predict `(stationid, price, supply, type_id)`\n",
    "* Time: `2012-01-01`—`2015-12-23`\n",
    "* Prediction target: `January 2016` with daily granularity\n",
    "* The total number of supplied products must not exceed the given number of products per month\n",
    "* No neighbourhood correlation between supply/demand\n",
    "* Products can be sold independent of the type of user ownable/non-ownable station\n",
    "\n",
    "## Index\n",
    "* [Fetching the Data](#Fetching-the-Data)\n",
    "* [Data Analysis](#Preliminary-Data-Analysis)\n",
    "    * [How is the Demand Distributed?](#How-is-the-demand-distributed?)\n",
    "    * [How does the demand per station look like?](#Stations-with-demand-per-product)\n",
    "    * [User Ownable vs. Non-Ownable Stations](#User-Ownable-vs.-Non-Ownable-Stations)\n",
    "* [Data Preprocessing](#Data-Preprocessing)"
   ]
  },
  {
   "cell_type": "code",
   "execution_count": 1,
   "metadata": {
    "collapsed": true
   },
   "outputs": [],
   "source": [
    "%matplotlib inline\n",
    "import psycopg2\n",
    "import seaborn as sns\n",
    "from matplotlib import pyplot as plt\n",
    "import pandas as pd\n",
    "import numpy as np\n",
    "import scipy as sp"
   ]
  },
  {
   "cell_type": "code",
   "execution_count": 2,
   "metadata": {
    "collapsed": true
   },
   "outputs": [],
   "source": [
    "%load_ext autoreload\n",
    "%autoreload 2 "
   ]
  },
  {
   "cell_type": "code",
   "execution_count": 3,
   "metadata": {
    "collapsed": true
   },
   "outputs": [],
   "source": [
    "sns.set(color_codes=True)"
   ]
  },
  {
   "cell_type": "markdown",
   "metadata": {},
   "source": [
    "---\n",
    "\n",
    "### Fetching the Data"
   ]
  },
  {
   "cell_type": "code",
   "execution_count": 4,
   "metadata": {
    "collapsed": true
   },
   "outputs": [],
   "source": [
    "# local db\n",
    "conn = psycopg2.connect(\"dbname=eveonline user=REPLACE_USER\")\n",
    "cur = conn.cursor()"
   ]
  },
  {
   "cell_type": "code",
   "execution_count": 5,
   "metadata": {},
   "outputs": [
    {
     "name": "stdout",
     "output_type": "stream",
     "text": [
      "10378\n"
     ]
    }
   ],
   "source": [
    "cur.execute(\"SELECT count(1) FROM stastations\")\n",
    "N_stations = cur.fetchone()[0]\n",
    "print(N_stations)"
   ]
  },
  {
   "cell_type": "code",
   "execution_count": 6,
   "metadata": {
    "collapsed": true
   },
   "outputs": [],
   "source": [
    "columns = [\"typeid\", \"stationid\", \"time\", \"supply\",\n",
    "           \"supp_bids\", \"supp_avg_p\", \"supp_min_p\", \"supp_max_p\",\n",
    "           \"demand\", \"dem_bids\", \"dem_avg_p\", \"dem_min_p\",\n",
    "           \"dem_max_p\"]"
   ]
  },
  {
   "cell_type": "code",
   "execution_count": 7,
   "metadata": {
    "collapsed": true
   },
   "outputs": [],
   "source": [
    "conn.rollback()"
   ]
  },
  {
   "cell_type": "code",
   "execution_count": 7,
   "metadata": {
    "collapsed": true
   },
   "outputs": [],
   "source": [
    "cur.execute(\"SELECT %s FROM supply_and_demand WHERE typeid = 34\" % (', '.join(columns)))\n",
    "df_snd_tritanium = pd.DataFrame(cur.fetchall(), columns=columns)"
   ]
  },
  {
   "cell_type": "code",
   "execution_count": 8,
   "metadata": {
    "collapsed": true
   },
   "outputs": [],
   "source": [
    "cur.execute(\"SELECT %s FROM supply_and_demand WHERE typeid = 1230\" % (', '.join(columns)))\n",
    "df_snd_veldspar = pd.DataFrame(cur.fetchall(), columns=columns)"
   ]
  },
  {
   "cell_type": "code",
   "execution_count": 9,
   "metadata": {
    "collapsed": true
   },
   "outputs": [],
   "source": [
    "cur.execute(\"SELECT %s FROM supply_and_demand WHERE typeid = 43\" % (', '.join(columns)))\n",
    "df_snd_antibiotics = pd.DataFrame(cur.fetchall(), columns=columns)"
   ]
  },
  {
   "cell_type": "code",
   "execution_count": 10,
   "metadata": {
    "collapsed": true
   },
   "outputs": [],
   "source": [
    "cur.execute(\"SELECT %s FROM supply_and_demand WHERE typeid = 28668\" % (', '.join(columns)))\n",
    "df_snd_nanite = pd.DataFrame(cur.fetchall(), columns=columns)"
   ]
  },
  {
   "cell_type": "code",
   "execution_count": 11,
   "metadata": {
    "collapsed": true
   },
   "outputs": [],
   "source": [
    "cur.execute(\"SELECT %s FROM supply_and_demand WHERE typeid = 29984\" % (', '.join(columns)))\n",
    "df_snd_tengu = pd.DataFrame(cur.fetchall(), columns=columns)"
   ]
  },
  {
   "cell_type": "code",
   "execution_count": 12,
   "metadata": {
    "collapsed": true
   },
   "outputs": [],
   "source": [
    "dfs = {\n",
    "    'tritanium': df_snd_tritanium,\n",
    "    'veldspar': df_snd_veldspar,\n",
    "    'antibiotics': df_snd_antibiotics,\n",
    "    'nanite repair paste': df_snd_nanite,\n",
    "    'tengu': df_snd_tengu\n",
    "}"
   ]
  },
  {
   "cell_type": "markdown",
   "metadata": {},
   "source": [
    "## Exporting Data as CSV"
   ]
  },
  {
   "cell_type": "code",
   "execution_count": 35,
   "metadata": {
    "collapsed": true
   },
   "outputs": [],
   "source": [
    "for k in dfs.keys():\n",
    "    dfs[k].to_csv('../output/df_{0}.csv'.format(k.replace(' ', '_')), index=False)"
   ]
  },
  {
   "cell_type": "markdown",
   "metadata": {},
   "source": [
    "## Preliminary Data Analysis"
   ]
  },
  {
   "cell_type": "code",
   "execution_count": 13,
   "metadata": {
    "collapsed": true
   },
   "outputs": [],
   "source": [
    "from IPython.display import HTML, display"
   ]
  },
  {
   "cell_type": "markdown",
   "metadata": {},
   "source": [
    "### How is the demand distributed?"
   ]
  },
  {
   "cell_type": "code",
   "execution_count": 14,
   "metadata": {},
   "outputs": [
    {
     "data": {
      "text/plain": [
       "0           500000.0\n",
       "1                NaN\n",
       "2                NaN\n",
       "3           100000.0\n",
       "4                NaN\n",
       "5                NaN\n",
       "6           100000.0\n",
       "7           100000.0\n",
       "8                NaN\n",
       "9          1000000.0\n",
       "10               NaN\n",
       "11               NaN\n",
       "12        30000000.0\n",
       "13        30000000.0\n",
       "14        30000000.0\n",
       "15        30000000.0\n",
       "16        30000000.0\n",
       "17        30000000.0\n",
       "18        30000000.0\n",
       "19        30000000.0\n",
       "20        30000000.0\n",
       "21        30000000.0\n",
       "22        30000000.0\n",
       "23        30000000.0\n",
       "24        30000000.0\n",
       "25        30000000.0\n",
       "26        30000000.0\n",
       "27        30000000.0\n",
       "28        30000000.0\n",
       "29        30000000.0\n",
       "             ...    \n",
       "950895     2513283.0\n",
       "950896     2513229.0\n",
       "950897     2513205.0\n",
       "950898     2389381.0\n",
       "950899     2389331.0\n",
       "950900     2389149.0\n",
       "950901     2389045.0\n",
       "950902     2389045.0\n",
       "950903     2389045.0\n",
       "950904     2388947.0\n",
       "950905     2388797.0\n",
       "950906     2388736.0\n",
       "950907     2388728.0\n",
       "950908     2388680.0\n",
       "950909     2388616.0\n",
       "950910     2388529.0\n",
       "950911     2386948.0\n",
       "950912       42339.0\n",
       "950913       42190.0\n",
       "950914       42146.0\n",
       "950915       42091.0\n",
       "950916       42012.0\n",
       "950917       41983.0\n",
       "950918       41908.0\n",
       "950919       41828.0\n",
       "950920       41828.0\n",
       "950921       41656.0\n",
       "950922       41656.0\n",
       "950923       41532.0\n",
       "950924           NaN\n",
       "Name: demand, dtype: float64"
      ]
     },
     "execution_count": 14,
     "metadata": {},
     "output_type": "execute_result"
    }
   ],
   "source": [
    "df_snd_veldspar['demand']"
   ]
  },
  {
   "cell_type": "code",
   "execution_count": 15,
   "metadata": {},
   "outputs": [
    {
     "data": {
      "text/plain": [
       "<bound method Series.unique of 0         60000004\n",
       "1         60000004\n",
       "2         60000004\n",
       "3         60000010\n",
       "4         60000010\n",
       "5         60000010\n",
       "6         60000010\n",
       "7         60000010\n",
       "8         60000010\n",
       "9         60000010\n",
       "10        60000010\n",
       "11        60000010\n",
       "12        60000013\n",
       "13        60000013\n",
       "14        60000013\n",
       "15        60000013\n",
       "16        60000013\n",
       "17        60000013\n",
       "18        60000013\n",
       "19        60000013\n",
       "20        60000013\n",
       "21        60000013\n",
       "22        60000013\n",
       "23        60000013\n",
       "24        60000013\n",
       "25        60000013\n",
       "26        60000013\n",
       "27        60000013\n",
       "28        60000013\n",
       "29        60000013\n",
       "            ...   \n",
       "950895    61001059\n",
       "950896    61001059\n",
       "950897    61001059\n",
       "950898    61001059\n",
       "950899    61001059\n",
       "950900    61001059\n",
       "950901    61001059\n",
       "950902    61001059\n",
       "950903    61001059\n",
       "950904    61001059\n",
       "950905    61001059\n",
       "950906    61001059\n",
       "950907    61001059\n",
       "950908    61001059\n",
       "950909    61001059\n",
       "950910    61001059\n",
       "950911    61001059\n",
       "950912    61001059\n",
       "950913    61001059\n",
       "950914    61001059\n",
       "950915    61001059\n",
       "950916    61001059\n",
       "950917    61001059\n",
       "950918    61001059\n",
       "950919    61001059\n",
       "950920    61001059\n",
       "950921    61001059\n",
       "950922    61001059\n",
       "950923    61001059\n",
       "950924    61001074\n",
       "Name: stationid, dtype: int64>"
      ]
     },
     "execution_count": 15,
     "metadata": {},
     "output_type": "execute_result"
    }
   ],
   "source": [
    "df_snd_veldspar.stationid.unique"
   ]
  },
  {
   "cell_type": "code",
   "execution_count": 16,
   "metadata": {
    "collapsed": true
   },
   "outputs": [],
   "source": [
    "def demand_for_station(df, stationid):\n",
    "    return df[(df.stationid == stationid)\n",
    "       # & (df.supply > 0.0)\n",
    "       & (df.demand > 0)]\n",
    "\n",
    "# i.e.\n",
    "# demand_for_station(df_snd_veldspar, 60000004)"
   ]
  },
  {
   "cell_type": "code",
   "execution_count": 25,
   "metadata": {},
   "outputs": [
    {
     "data": {
      "image/png": "[encoded data removed]",
      "text/plain": [
       "<matplotlib.figure.Figure at 0x10f09efd0>"
      ]
     },
     "metadata": {},
     "output_type": "display_data"
    },
    {
     "data": {
      "image/png": "[encoded data removed]",
      "text/plain": [
       "<matplotlib.figure.Figure at 0x10e037cf8>"
      ]
     },
     "metadata": {},
     "output_type": "display_data"
    }
   ],
   "source": [
    "# let's look at two example demand distributions\n",
    "from scipy.stats import poisson, weibull_min, entropy\n",
    "\n",
    "d1 = demand_for_station(df_snd_veldspar, 60000004)['demand']\n",
    "x1 = np.linspace(min(d1), max(d1), 100)\n",
    "\n",
    "# d1p_hat = poisson.fit(d1)\n",
    "d1wm_hat = weibull_min.fit(d1)\n",
    "# sns.distplot(d1)\n",
    "# sns.plt.plot(x=x1, y=d1p_hat)\n",
    "sns.plt.plot(x=x1, y=d1wm_hat)\n",
    "sns.plt.show()\n",
    "\n",
    "sns.distplot(demand_for_station(df_snd_veldspar, 61001059)['demand'])\n",
    "sns.plt.plot()\n",
    "sns.plt.show()"
   ]
  },
  {
   "cell_type": "code",
   "execution_count": null,
   "metadata": {
    "collapsed": true,
    "scrolled": true
   },
   "outputs": [],
   "source": [
    "\"\"\"\n",
    "\"\"\"\n",
    "\n",
    "obs = []\n",
    "\n",
    "station_no_snd = []\n",
    "station_snd = []\n",
    "totals = []\n",
    "\n",
    "for d in dfs.keys():\n",
    "    print(d, dfs[d].shape[0])\n",
    "    df = dfs[d]\n",
    "    _obs = []\n",
    "\n",
    "    snd_stations = []\n",
    "    residuals = []\n",
    "\n",
    "    for station in df['stationid'].unique():\n",
    "        snd_for_station = df[(df.stationid == station)\n",
    "                                   # & (df.supply > 0.0)\n",
    "                                   & (df.demand > 0.0)]\n",
    "\n",
    "        _obs.append(len(snd_for_station))\n",
    "\n",
    "        if len(snd_for_station) > 0:\n",
    "            snd_stations.append(station)\n",
    "        else:\n",
    "            residuals.append(station)\n",
    "\n",
    "    obs.append(_obs)\n",
    "    # print(\"has snd:\", len(snd_stations))\n",
    "    station_snd.append(len(snd_stations))\n",
    "    # print(\"has no snd:\", len(residuals))\n",
    "    station_no_snd.append(len(residuals))\n",
    "    # print('---')\n",
    "\n",
    "    totals.append(len(snd_stations) + len(residuals))"
   ]
  },
  {
   "cell_type": "code",
   "execution_count": 167,
   "metadata": {
    "collapsed": true
   },
   "outputs": [],
   "source": [
    "# TODO:\n",
    "# * mean supply/demand?\n",
    "# * what is the normal supply/demand relation?"
   ]
  },
  {
   "cell_type": "markdown",
   "metadata": {},
   "source": [
    "--- \n",
    "\n",
    "### Stations with demand per product"
   ]
  },
  {
   "cell_type": "code",
   "execution_count": 168,
   "metadata": {},
   "outputs": [
    {
     "data": {
      "text/html": [
       "<h3>Stations with demand per product</h3>\n",
       "<ol><li><em>tritanium:</em><code>\t\t 0.8702%  (6080)</code></li><li><em>veldspar:</em><code>\t\t 0.7534%  (4676)</code></li><li><em>antibiotics:</em><code>\t\t 0.4129%  (2870)</code></li><li><em>nanite repair paste:</em><code>\t 0.3967%  (4484)</code></li><li><em>tengu:</em><code>\t\t\t 0.4710%  (2860)</code></li></ol>"
      ],
      "text/plain": [
       "<IPython.core.display.HTML object>"
      ]
     },
     "metadata": {},
     "output_type": "display_data"
    }
   ],
   "source": [
    "o = \"<h3>Stations with demand per product</h3>\\n<ol>\"\n",
    "# print(\"stations with demand per product\")\n",
    "for t, s, r, n in zip(totals, station_snd, station_no_snd, ['tritanium',\n",
    "                                                     'veldspar',\n",
    "                                                     'antibiotics',\n",
    "                                                     'nanite repair paste',\n",
    "                                                     'tengu']):\n",
    "    if 7 < len(n) < 15:\n",
    "        t = \"\\t\\t\"\n",
    "    elif 7 > len(n):\n",
    "        t = \"\\t\\t\\t\"\n",
    "    else:\n",
    "        t = \"\\t\"\n",
    "\n",
    "    # print(\"{0}:{1} {2:.4f}%  ({3})\".format(n, t, (s / (s + r)), (s+r)))\n",
    "    o += \"<li><em>{0}:</em><code>{1} {2:.4f}%  ({3})</code></li>\".format(n, t, (s / (s + r)), (s+r))\n",
    "    \n",
    "o += \"</ol>\"\n",
    "display(HTML(o))"
   ]
  },
  {
   "cell_type": "markdown",
   "metadata": {},
   "source": [
    "---\n",
    "\n",
    "### User Ownable vs. Non-Ownable Stations\n",
    "Stations with `61` as a prefix are user ownable, others are not."
   ]
  },
  {
   "cell_type": "code",
   "execution_count": 117,
   "metadata": {},
   "outputs": [
    {
     "data": {
      "image/png": "[encoded data removed]",
      "text/plain": [
       "<matplotlib.figure.Figure at 0x11cff6898>"
      ]
     },
     "metadata": {},
     "output_type": "display_data"
    }
   ],
   "source": [
    "station_types = []\n",
    "\n",
    "for s in df_snd_tritanium['stationid'].unique():\n",
    "    station_types.append(int(s * 0.000001))\n",
    "\n",
    "st = np.array(station_types)\n",
    "p = sns.barplot(x=[60, 61],\n",
    "                y=[len(np.where(st == 60)[0]),\n",
    "                   len(np.where(st == 61)[0])])\n",
    "_ = p.set_title('Fraction of user ownable stations in the data')"
   ]
  },
  {
   "cell_type": "markdown",
   "metadata": {},
   "source": [
    "---\n",
    "\n",
    "## Data Preprocessing"
   ]
  },
  {
   "cell_type": "code",
   "execution_count": 47,
   "metadata": {
    "collapsed": true
   },
   "outputs": [],
   "source": [
    "\"\"\"\n",
    "Creates a full list of dates to use as features.\n",
    "\n",
    "The data frames are \"sparse\" such that only dates with\n",
    "data are contained, and thus some of the dates could be\n",
    "missing, but which must be accounted for.\n",
    "\"\"\"\n",
    "import datetime as dt\n",
    "\n",
    "start_date = pd.to_datetime(\"2012-01-01\")\n",
    "end_date = pd.to_datetime(\"2015-12-23\")\n",
    "\n",
    "d = []\n",
    "\n",
    "# number of days between the end and start date\n",
    "days = (end_date - start_date).days\n",
    "\n",
    "for day in range(days):\n",
    "    d.append((start_date + dt.timedelta(day)))\n",
    "\n",
    "date_index = pd.to_datetime(d)\n",
    "\n",
    "# create lookup fn for index of date in feature vector\n",
    "def date_lookup(date):\n",
    "    return d.index(date)\n",
    "\n",
    "# i.e.\n",
    "# date_lookup(pd.to_datetime('2013-10-14'))"
   ]
  },
  {
   "cell_type": "markdown",
   "metadata": {},
   "source": [
    "## Date Imputation"
   ]
  },
  {
   "cell_type": "code",
   "execution_count": null,
   "metadata": {
    "collapsed": true
   },
   "outputs": [],
   "source": [
    "# takes ages. be careful. plan for at least 24h.\n",
    "from tqdm import tqdm\n",
    "imputed_dfs = {}\n",
    "\n",
    "for k in dfs.keys():\n",
    "    stations = dfs[k]['stationid'].unique()\n",
    "    \n",
    "    missing = []\n",
    "\n",
    "    pre_n = dfs[k].shape[0]\n",
    "\n",
    "    for s in tqdm(stations):\n",
    "        df_station = dfs[k][dfs[k]['stationid'] == s]\n",
    "        times = df_station['time'].unique()\n",
    "        \n",
    "        for d in ds:\n",
    "            if d not in times:\n",
    "                missing.append({\n",
    "                    'time': d,\n",
    "                    'stationid': s\n",
    "                })\n",
    "\n",
    "    imputed_dfs[k] = dfs[k].append(missing, ignore_index=True)\n",
    "\n",
    "    assert imputed_dfs[k].shape[0] > pre_n, \"nothing was appended\"\n",
    "\n",
    "    print(\"{0} done\".format(k))\n",
    "    print(\"imputed {0}\".format(imputed_dfs[k].shape[0] - pre_n))"
   ]
  },
  {
   "cell_type": "code",
   "execution_count": null,
   "metadata": {
    "collapsed": true
   },
   "outputs": [],
   "source": [
    "# takes ages. longer than the cell before.\n",
    "import itertools\n",
    "\n",
    "# validate imputation\n",
    "for k in imputed_dfs.keys():\n",
    "    # two things:\n",
    "    # 1. for all stations, dates there must be a tuple (station, date)\n",
    "    #    for all products\n",
    "    # 2. this tuple has to be unique\n",
    "    df = imputed_dfs[k]\n",
    "    dates = df['time'].unique()\n",
    "    stations = df['stationid'].unique()\n",
    "\n",
    "    print('-------\\n{0}'.format(k))\n",
    "    print('unique dates:\\t\\t{0}'.format(len(dates)))\n",
    "    print('unique stations:\\t{0}'.format(len(stations)))\n",
    "    \n",
    "    for c in itertools.product(ds, stations):\n",
    "        d, s = c\n",
    "        data = df[(df['stationid'] == s) & (df['time'] == d)]\n",
    "        assert data.shape[0] > 0, \"{0} is missing {1} on {2}\".format(k, s, d)"
   ]
  },
  {
   "cell_type": "code",
   "execution_count": null,
   "metadata": {
    "collapsed": true
   },
   "outputs": [],
   "source": [
    "for k in dfs.keys():\n",
    "    imputed_dfs[k].to_csv('../output/df_{0}_imputed.csv'.format(k.replace(' ', '_')), index=False)"
   ]
  },
  {
   "cell_type": "markdown",
   "metadata": {},
   "source": [
    "---\n",
    "\n",
    "### Data Preprocessing"
   ]
  },
  {
   "cell_type": "code",
   "execution_count": 172,
   "metadata": {},
   "outputs": [
    {
     "data": {
      "text/html": [
       "<ul><li>typeid</li><li>stationid</li><li>time</li><li>supply</li><li>supp_bids</li><li>supp_avg_p</li><li>supp_min_p</li><li>supp_max_p</li><li>demand</li><li>dem_bids</li><li>dem_avg_p</li><li>dem_min_p</li><li>dem_max_p</li>"
      ],
      "text/plain": [
       "<IPython.core.display.HTML object>"
      ]
     },
     "metadata": {},
     "output_type": "display_data"
    }
   ],
   "source": [
    "o = \"<ul>\"\n",
    "for c in df_snd_tengu.columns.tolist():\n",
    "    o += \"<li>{0}</li>\".format(c)\n",
    "    \n",
    "display(HTML(o))"
   ]
  },
  {
   "cell_type": "code",
   "execution_count": null,
   "metadata": {
    "collapsed": true
   },
   "outputs": [],
   "source": [
    "feature_names = []  # TODO!"
   ]
  },
  {
   "cell_type": "code",
   "execution_count": 57,
   "metadata": {
    "collapsed": true
   },
   "outputs": [],
   "source": [
    "def make_features_for_station(df, station_id):\n",
    "    snd_s = df[df['stationid'] == station_id].fillna(0)\n",
    "\n",
    "    m = 5                 # no of features\n",
    "    y_demand = [0] * days\n",
    "    y_price = [0] * days\n",
    "    X = [[]] * days       # TODO: how many features?\n",
    "\n",
    "    for i, row in snd_s.iterrows():\n",
    "        j = date_lookup(row['time'])\n",
    "\n",
    "        # regression target\n",
    "        y_demand[j] = row['demand']\n",
    "        y_price[j] = row['avg_']  # TODO\n",
    "\n",
    "        prev_demand = np.sum(y_dem)\n",
    "        prev_avg_p = np.sum(y_aprice)\n",
    "        prev_demand_cnt = np.count_nonzero(y_dem)\n",
    "        # if the station is ownable by the user, then the id\n",
    "        # starts with `61`\n",
    "        is_ownable = int(station_id * 0.000001) == 61\n",
    "\n",
    "        # previous week, if any\n",
    "        X[j] = None # TODO\n",
    "\n",
    "    return (X, y)"
   ]
  },
  {
   "cell_type": "code",
   "execution_count": 258,
   "metadata": {},
   "outputs": [
    {
     "name": "stdout",
     "output_type": "stream",
     "text": [
      "1452\n"
     ]
    }
   ],
   "source": [
    "def make_features(df):\n",
    "    import datetime as dt\n",
    "\n",
    "    X = []\n",
    "    nulls = []\n",
    "\n",
    "    stations = list(map(int, df['stationid'].values))\n",
    "    demand = []\n",
    "    N = print(date_index.shape[0])\n",
    "\n",
    "    for station in stations:\n",
    "        x = make_features_for_station(df, station)\n",
    "\n",
    "        if x is None:\n",
    "            nulls.append(station)\n",
    "        else:\n",
    "            X.append(x)\n",
    "\n",
    "    return (date_index, X, nulls)\n",
    "\n",
    "make_features(df_snd_tengu)"
   ]
  },
  {
   "cell_type": "markdown",
   "metadata": {},
   "source": [
    "## DNN\n",
    "pred. $\\hat{y}^{(i)}$, where $i$ are the products, train net. per station\n",
    "\n",
    "Let $m$ be the number of features, $j$ the $j$-th station, $X^{(j)} \\in \\mathbb{R}^{m \\times n}$"
   ]
  },
  {
   "cell_type": "markdown",
   "metadata": {},
   "source": [
    "## Regression Trees"
   ]
  },
  {
   "cell_type": "code",
   "execution_count": 157,
   "metadata": {
    "collapsed": true
   },
   "outputs": [],
   "source": [
    "from sklearn import tree\n",
    "\n",
    "clf = tree.DecisionTreeRegressor()"
   ]
  },
  {
   "cell_type": "code",
   "execution_count": null,
   "metadata": {
    "collapsed": true
   },
   "outputs": [],
   "source": [
    "X = "
   ]
  },
  {
   "cell_type": "code",
   "execution_count": null,
   "metadata": {
    "collapsed": true
   },
   "outputs": [],
   "source": [
    "Y = "
   ]
  },
  {
   "cell_type": "markdown",
   "metadata": {},
   "source": [
    "## Unused"
   ]
  },
  {
   "cell_type": "markdown",
   "metadata": {},
   "source": [
    "## Background\n",
    "Consider a price-dependent demand estimation. Let $q$ be the stocking quantity and $p$ be the price.\n",
    "The demand then is defined as $D(p, \\epsilon) = y(p) + \\epsilon$, where $\\epsilon$ is a random variable and $y(p)$ a decreasing function that captures the price-demand dependency. Furthermore, let $F(\\cdot)$ be the cumulative distribution function of $\\epsilon$, $f(\\cdot)$ the pdf."
   ]
  },
  {
   "cell_type": "markdown",
   "metadata": {
    "collapsed": true
   },
   "source": [
    "## Station Embeddings\n",
    "1. regions: 200\n",
    "2. constellations: 2240\n",
    "3. solar systems: 16070\n",
    "\n",
    "Let $s_{r_{c_j}} = s_j$ be a solarsystem in region number $r$, constellation number $c$,  $j, r, c \\in \\mathbb{R}$.\n",
    "$\\epsilon \\in \\mathbb{R}$ shall be the neighbourhood radius, $\\mathcal{N_\\epsilon}(s_j)$ then is the neighbourhood of solar system $s_j$ given the neighbourhood radius $\\epsilon$.\n",
    "\n",
    "$$P(s_j|s_i) = \\frac{1}{\\epsilon}\\delta(s_j,s_i)$$\n",
    "\n",
    "\n",
    "### Neighbourhood-by-Solarsystem Embedding\n",
    "*NbS* models the prob. distribution of $P(\\mathcal{N_\\epsilon}(s_j)|s_j)$.\n",
    "\n",
    "\n",
    "### Solarsystem-by-Neighbourhood Embedding\n",
    "SbN models the prob. distribution $P(s_j|\\mathcal{N_\\epsilon}(s_j))$.\n",
    "\n",
    "\n",
    "\n",
    "remaining:\n",
    "\n",
    "* embedding with weighted supply/demand for some/all of the five products, where the expected trade is modelled by weighting supply and demand.\n",
    "* neighbourhood dependent on the constellation/region\n",
    "* penalizing on the prob. dist. of systems in the neighbourhood from another constellation (or custom objection function)\n",
    "* weighting w/ gaussian prior weighted by distance?"
   ]
  },
  {
   "cell_type": "code",
   "execution_count": 26,
   "metadata": {
    "collapsed": true
   },
   "outputs": [],
   "source": [
    "cur.execute(\"\"\"\n",
    "    SELECT constellationid, stationid, stationtypeid,\n",
    "        corporationid, solarsystemid, security, regionid,\n",
    "        stationname, x, y, z\n",
    "    FROM stastations\n",
    "\"\"\")"
   ]
  },
  {
   "cell_type": "code",
   "execution_count": 27,
   "metadata": {
    "collapsed": true
   },
   "outputs": [],
   "source": [
    "sts = cur.fetchall()\n",
    "df_st = pd.DataFrame(sts,\n",
    "                     columns=['constellationid', 'stationid', 'stationtypeid',\n",
    "        'corporationid', 'solarsystemid', 'security', 'regionid',\n",
    "        'stationname', 'x', 'y', 'z'])"
   ]
  },
  {
   "cell_type": "code",
   "execution_count": 20,
   "metadata": {},
   "outputs": [
    {
     "name": "stderr",
     "output_type": "stream",
     "text": [
      "Using TensorFlow backend.\n"
     ]
    }
   ],
   "source": [
    "import keras\n",
    "from keras.models import Model\n",
    "from keras.layers.core import Dense, Reshape, Lambda\n",
    "from keras.layers import Input, Embedding, merge\n",
    "from keras import backend as K"
   ]
  },
  {
   "cell_type": "code",
   "execution_count": null,
   "metadata": {
    "collapsed": true
   },
   "outputs": [],
   "source": []
  }
 ],
 "metadata": {
  "kernelspec": {
   "display_name": "Python 3",
   "language": "python",
   "name": "python3"
  },
  "language_info": {
   "codemirror_mode": {
    "name": "ipython",
    "version": 3
   },
   "file_extension": ".py",
   "mimetype": "text/x-python",
   "name": "python",
   "nbconvert_exporter": "python",
   "pygments_lexer": "ipython3",
   "version": "3.6.1"
  },
  "latex_envs": {
   "LaTeX_envs_menu_present": true,
   "autocomplete": true,
   "bibliofile": "biblio.bib",
   "cite_by": "apalike",
   "current_citInitial": 1,
   "eqLabelWithNumbers": true,
   "eqNumInitial": 1,
   "hotkeys": {
    "equation": "Ctrl-E",
    "itemize": "Ctrl-I"
   },
   "labels_anchors": false,
   "latex_user_defs": false,
   "report_style_numbering": false,
   "user_envs_cfg": false
  }
 },
 "nbformat": 4,
 "nbformat_minor": 2
}
