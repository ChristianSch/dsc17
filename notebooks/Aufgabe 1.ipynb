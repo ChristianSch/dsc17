{
 "cells": [
  {
   "cell_type": "markdown",
   "metadata": {},
   "source": [
    "## Aufgabe 1: Vorhersage Absatzzahlen"
   ]
  },
  {
   "cell_type": "code",
   "execution_count": 1,
   "metadata": {
    "collapsed": true
   },
   "outputs": [],
   "source": [
    "%matplotlib inline\n",
    "import psycopg2\n",
    "import pandas as pd\n",
    "import numpy as np\n",
    "from fbprophet import Prophet"
   ]
  },
  {
   "cell_type": "code",
   "execution_count": 2,
   "metadata": {
    "collapsed": true
   },
   "outputs": [],
   "source": [
    "%load_ext autoreload\n",
    "%autoreload 2 "
   ]
  },
  {
   "cell_type": "code",
   "execution_count": 3,
   "metadata": {
    "collapsed": true
   },
   "outputs": [],
   "source": [
    "conn = psycopg2.connect(\"dbname=eveonline user=REPLACE_USER\")\n",
    "cur = conn.cursor()"
   ]
  },
  {
   "cell_type": "code",
   "execution_count": 36,
   "metadata": {
    "collapsed": true
   },
   "outputs": [],
   "source": [
    "def demand_for_product_id(pid):\n",
    "    cur.execute(\"SELECT time as ds, sum(sales_units) as y FROM items WHERE typeid={0} GROUP BY time ORDER BY time\"\n",
    "               .format(pid))\n",
    "    data = cur.fetchall()\n",
    "    df = pd.DataFrame(data, columns=['ds', 'y'])\n",
    "    df['y'] = np.log(df['y'])\n",
    "\n",
    "    return df"
   ]
  },
  {
   "cell_type": "code",
   "execution_count": 37,
   "metadata": {
    "collapsed": true
   },
   "outputs": [],
   "source": [
    "products = {\n",
    "    'tengu': 29984,\n",
    "    'mackinaw': 22548,\n",
    "    'ishtar': 22548,\n",
    "    'hulk': 22544,\n",
    "    'dominix': 645,\n",
    "    'caldari_controllsys': 15681,\n",
    "    'covert_ops': 11578,\n",
    "    'navi_stasis_covert': 17559,\n",
    "    'adaptive_inv_field': 2281,\n",
    "    'rep_field_gyrostab': 15806,\n",
    "    'nanite': 28668,\n",
    "    'sisters_cs_probe': 30488,\n",
    "    'navy_cap_booster_800': 32014,\n",
    "    'scourge_fmissile': 2629,\n",
    "    'navy_cap_booster_400': 32006,\n",
    "    'tritanium': 34,\n",
    "    'mexallon': 36,\n",
    "    'pyerite': 35,\n",
    "    'nocxium': 38,\n",
    "    'isogen': 37\n",
    "}"
   ]
  },
  {
   "cell_type": "code",
   "execution_count": null,
   "metadata": {
    "collapsed": true
   },
   "outputs": [],
   "source": [
    "df_caldari_controllsys = demand_for_product()\n",
    "df_covert_ops = demand_for_product()\n",
    "df_navi_stasis_covert = demand_for_product()\n",
    "df_adaptive_inv_field = demand_for_product()\n",
    "df_rep_field_gyrostab = demand_for_product()"
   ]
  },
  {
   "cell_type": "markdown",
   "metadata": {},
   "source": [
    "---\n",
    "## Imputation"
   ]
  },
  {
   "cell_type": "code",
   "execution_count": 38,
   "metadata": {
    "collapsed": true
   },
   "outputs": [],
   "source": [
    "\"\"\"\n",
    "Creates a full list of dates to use as features.\n",
    "\n",
    "The data frames are \"sparse\" such that only dates with\n",
    "data are contained, and thus some of the dates could be\n",
    "missing, but which must be accounted for.\n",
    "\"\"\"\n",
    "import datetime as dt\n",
    "\n",
    "start_date = pd.to_datetime(\"2012-01-01\")\n",
    "end_date = pd.to_datetime(\"2015-12-23\")\n",
    "\n",
    "ds = []\n",
    "\n",
    "# number of days between the end and start date\n",
    "days = (end_date - start_date).days\n",
    "\n",
    "for day in range(days):\n",
    "    ds.append((start_date + dt.timedelta(day)))\n",
    "\n",
    "date_index = pd.to_datetime(ds)\n",
    "\n",
    "# create lookup fn for index of date in feature vector\n",
    "def date_lookup(date):\n",
    "    return ds.index(date)\n",
    "\n",
    "# i.e.\n",
    "# date_lookup(pd.to_datetime('2013-10-14'))"
   ]
  },
  {
   "cell_type": "code",
   "execution_count": 43,
   "metadata": {
    "collapsed": true
   },
   "outputs": [],
   "source": [
    "from tqdm import tqdm\n",
    "\n",
    "def impute_df(df):\n",
    "    \"\"\"\n",
    "    Simple impute of all missing sum of sales per day.\n",
    "    \"\"\"\n",
    "    times = df['ds'].unique()\n",
    "        \n",
    "    for d in tqdm(ds):\n",
    "        if d not in times:\n",
    "            df.append({\n",
    "                'time': d,\n",
    "                'y': 0\n",
    "            }, ignore_index=True)"
   ]
  },
  {
   "cell_type": "code",
   "execution_count": 40,
   "metadata": {
    "collapsed": true
   },
   "outputs": [],
   "source": [
    "# examining one example\n",
    "df_tengu = demand_for_product_id(products['tengu'])"
   ]
  },
  {
   "cell_type": "code",
   "execution_count": 44,
   "metadata": {
    "collapsed": true
   },
   "outputs": [],
   "source": [
    "def days_for_range(start, end):\n",
    "    return (pd.to_datetime(end) - pd.to_datetime(start)).days"
   ]
  },
  {
   "cell_type": "code",
   "execution_count": 46,
   "metadata": {},
   "outputs": [
    {
     "name": "stdout",
     "output_type": "stream",
     "text": [
      "98\n"
     ]
    }
   ],
   "source": [
    "# forecast horizons:\n",
    "# 1. 24.12.15 to 01.01.16 (9 days)\n",
    "# 2. weeks of january (30 days (1.1. is already accounted for))\n",
    "# 3. months of january to march\n",
    "days = days_for_range(\"2015-12-24\", \"2016-03-31\")\n",
    "print(days)"
   ]
  },
  {
   "cell_type": "code",
   "execution_count": 52,
   "metadata": {
    "collapsed": true
   },
   "outputs": [],
   "source": [
    "def forecast(df):\n",
    "    p = Prophet(changepoints=None)\n",
    "    p.fit(df)\n",
    "    future = p.make_future_dataframe(periods=days + 1)\n",
    "    forecast = p.predict(future)\n",
    "\n",
    "    return forecast"
   ]
  },
  {
   "cell_type": "code",
   "execution_count": 93,
   "metadata": {
    "collapsed": true
   },
   "outputs": [],
   "source": [
    "def process_product(product):\n",
    "    df = demand_for_product_id(products[product])\n",
    "    f = forecast(df)\n",
    "\n",
    "    days_of_december = f.iloc[-99:-90]\n",
    "    week1_of_jan = f.iloc[-88:-81]\n",
    "    week2_of_jan = f.iloc[-81:-74]\n",
    "    week3_of_jan = f.iloc[-74:-67]\n",
    "    week4_of_jan = f.iloc[-67:-60]\n",
    "    days_of_january = f.iloc[-91:-60]\n",
    "    days_of_february = f.iloc[-60:-31]\n",
    "    days_of_march = f.iloc[-31:]\n",
    "\n",
    "    ## values\n",
    "    # http://kalenderwoche.net/alle-kalenderwochen-2016.php\n",
    "    # kw1: 4.1.-10.1.\n",
    "    # kw2: 11.1-17.1.\n",
    "    # kw3: 18.1.-24.1.\n",
    "    # kw4: 25.1.-31.1.\n",
    "\n",
    "    day_labels = list(map(lambda d: str(d),  #).strftime('%Y-%m-%d'),\n",
    "                           days_of_december['ds'].values))\n",
    "    days = days_of_december['yhat'].values\n",
    "\n",
    "    week_labels = ['kw1', 'kw2', 'kw3', 'kw4']\n",
    "    weeks = [np.sum(week1_of_jan['yhat'].values),\n",
    "             np.sum(week2_of_jan['yhat'].values),\n",
    "             np.sum(week3_of_jan['yhat'].values),\n",
    "             np.sum(week4_of_jan['yhat'].values),]\n",
    "\n",
    "    month_labels = ['jan', 'feb', 'march']\n",
    "    months = [np.sum(days_of_january['yhat'].values),\n",
    "              np.sum(days_of_february['yhat'].values),\n",
    "              np.sum(days_of_march['yhat'].values)]\n",
    "    \n",
    "    labels = (day_labels,\n",
    "              week_labels,\n",
    "              month_labels)\n",
    "    values = (days, weeks, months)\n",
    "\n",
    "    return (labels, values)"
   ]
  },
  {
   "cell_type": "code",
   "execution_count": 94,
   "metadata": {},
   "outputs": [
    {
     "name": "stdout",
     "output_type": "stream",
     "text": [
      "CPU times: user 6.58 s, sys: 113 ms, total: 6.7 s\n",
      "Wall time: 6.81 s\n"
     ]
    }
   ],
   "source": [
    "%%time\n",
    "labels, tengu_forecasts = process_product('tengu')"
   ]
  },
  {
   "cell_type": "code",
   "execution_count": 99,
   "metadata": {},
   "outputs": [
    {
     "name": "stderr",
     "output_type": "stream",
     "text": [
      "100%|██████████| 20/20 [10:20<00:00, 48.13s/it]\n"
     ]
    }
   ],
   "source": [
    "final_data = {}\n",
    "labels = None\n",
    "\n",
    "for p in tqdm(products):\n",
    "    l, data = process_product(p)\n",
    "\n",
    "    if labels is None:\n",
    "        labels = l\n",
    "\n",
    "    final_data[p] = data"
   ]
  },
  {
   "cell_type": "code",
   "execution_count": 142,
   "metadata": {
    "collapsed": true
   },
   "outputs": [],
   "source": [
    "!rm ../output/aufgabe_1.csv"
   ]
  },
  {
   "cell_type": "code",
   "execution_count": 143,
   "metadata": {
    "collapsed": true
   },
   "outputs": [],
   "source": [
    "with open('../output/aufgabe_1.csv', 'a') as f:\n",
    "    # write header\n",
    "    cols = ['product']\n",
    "    \n",
    "    cols += list(map(lambda d: str(d).split('T')[0],\n",
    "                           labels[0]))\n",
    "    cols += labels[1]\n",
    "    cols += labels[2]\n",
    "\n",
    "    f.write(','.join(cols) + '\\n')\n",
    "\n",
    "    # write data\n",
    "    for d in final_data:\n",
    "        dat = ','.join(list(map(str, np.hstack(final_data[d]))))\n",
    "        f.write(d + ',' + dat + '\\n')\n",
    "    "
   ]
  },
  {
   "cell_type": "code",
   "execution_count": 144,
   "metadata": {
    "scrolled": true
   },
   "outputs": [
    {
     "name": "stdout",
     "output_type": "stream",
     "text": [
      "product,2015-12-24,2015-12-25,2015-12-26,2015-12-27,2015-12-28,2015-12-29,2015-12-30,2015-12-31,2016-01-01,kw1,kw2,kw3,kw4,jan,feb,march\r\n",
      "tengu,3.50022570026,3.49657581067,3.57088389134,3.61727040508,3.42534020988,3.36050428085,3.38005273529,3.43187317959,3.42250476185,23.4405107312,22.9641648498,22.7163329443,22.6562613108,102.22638616,95.3057224648,98.3898222454\r\n",
      "mackinaw,3.41983750081,3.49514681462,3.64505825055,3.74387073566,3.58171143315,3.54216006465,3.49265510493,3.45320703855,3.52225147165,24.8996731669,24.5876231515,24.4305498438,24.5867666361,109.448921392,101.327899087,103.957626068\r\n",
      "ishtar,3.41983750081,3.49514681462,3.64505825055,3.74387073566,3.58171143315,3.54216006465,3.49265510493,3.45320703855,3.52225147165,24.8996731669,24.5876231515,24.4305498438,24.5867666361,109.448921392,101.327899087,103.957626068\r\n",
      "hulk,3.25018591799,3.28587613413,3.42627750018,3.51647122044,3.33056912551,3.28847167906,3.28918741189,3.2607718588,3.29549423605,23.4449095592,23.4525868431,23.5370368279,23.7239937128,104.41276114,97.0361963945,101.981818488\r\n",
      "dominix,3.48335449475,3.51603914277,3.6395472703,3.62715178308,3.49870519711,3.43626665352,3.46615940183,3.46356077031,3.5018114328,24.7393829009,24.8857359305,24.734080201,24.2170822182,109.333815161,96.3994161524,97.496398076\r\n",
      "caldari_controllsys,4.52171328555,4.55597720264,4.59716677208,4.5882068537,4.47578559244,4.48511822153,4.5035849569,4.50050250667,4.53163137656,31.430166503,31.2915293825,31.1644130861,31.0406830048,138.588665888,129.873816974,134.725075536\r\n",
      "covert_ops,6.78400060713,6.83630078116,6.92679913623,6.99175222401,6.84190507362,6.74188227078,6.7562071855,6.71392370715,6.76979804842,47.4313027508,47.6456323528,48.0945110924,48.4269529552,212.168023351,198.332224565,206.779058857\r\n",
      "navi_stasis_covert,4.37152775694,4.35014181178,4.50725099557,4.50799410142,4.32920678577,4.29808691122,4.35069876398,4.31962547037,4.30370601352,30.5755815898,31.0445761575,31.6537462948,31.9920004154,138.512443044,130.183775815,135.113297565\r\n",
      "adaptive_inv_field,7.73341910695,7.74532867974,7.87517897886,7.92507354123,7.74485972743,7.73187920999,7.71311675374,7.71300171674,7.72865668178,54.4269530352,54.4362218751,54.2710717388,53.987357915,240.628729592,223.175365824,236.701108324\r\n",
      "rep_field_gyrostab,3.86224859644,3.89851010911,4.02428624016,3.96473737198,3.84549880423,3.85934187396,3.86913294647,3.81950545423,3.85693174513,27.0250466618,27.1454262132,27.426033293,27.6913102487,121.057121691,114.524311765,116.859730193\r\n",
      "nanite,12.7900251138,12.8440325865,12.9915887188,12.9465750102,12.8052107298,12.7800114307,12.754154905,12.7651242664,12.8272073272,90.1304532054,90.6933468204,91.1596432117,91.2664676859,402.008256866,376.898802217,398.102947188\r\n",
      "sisters_cs_probe,9.03733246875,9.07078447668,9.15340973353,9.15010517279,9.06085290078,8.99744666752,9.02390090034,8.99781423874,9.03216073356,63.2167516628,63.3374644775,63.576594886,63.7202065346,281.115076813,264.667097975,279.49457011\r\n",
      "navy_cap_booster_800,9.83652765578,9.85569741657,10.074628674,9.96574121089,9.84227767846,9.83275077256,9.83760295865,9.76601851164,9.78849269926,68.9159550036,69.440330894,70.1717732992,70.5481088228,308.788156718,289.681150011,307.003024387\r\n",
      "scourge_fmissile,14.8732160299,14.8763410435,14.9710522135,15.0357195715,14.9034142868,14.8554720192,14.8343730056,14.8504659458,14.8555555515,104.272032668,104.444486562,104.628627027,104.655873379,462.82965945,433.375355001,459.707466573\r\n",
      "navy_cap_booster_400,10.2630001203,10.2311011683,10.4263719654,10.3929822474,10.2712342818,10.2285625157,10.2702485391,10.2554216041,10.2332347578,72.5263689528,73.1432342488,73.5125804121,73.4259415146,323.69531627,302.858064733,317.88630474\r\n",
      "tritanium,22.2134329997,22.2408951951,22.2903875511,22.3353244023,22.2625531331,22.2043549775,22.1918976239,22.2195490617,22.248939975,155.866507281,155.881063679,155.75739507,155.613725807,690.014501685,645.66462584,685.230219885\r\n",
      "mexallon,19.4493138901,19.4385479045,19.5118095213,19.5729549686,19.4705799018,19.4144289049,19.4072884132,19.4341631195,19.4273648734,136.342386677,136.600605722,136.8199922,136.886501102,605.152454846,566.674104469,602.53925576\r\n",
      "pyerite,20.9620967638,20.9631803727,21.0170516469,21.0965819173,20.98871023,20.9398928214,20.9288070885,20.947469608,20.9505612876,146.90840564,147.134253225,147.37753981,147.482805769,651.949952379,610.411975444,648.23328814\r\n",
      "nocxium,16.7096815603,16.7182073824,16.800889055,16.8349436518,16.7440696016,16.7057426619,16.7218118013,16.6931789002,16.7048074564,117.185270964,117.194445871,117.194540423,117.291971566,519.188812309,487.731272015,515.93772654\r\n",
      "isogen,18.1790415674,18.2175292584,18.244308512,18.2864380101,18.195250099,18.1473633494,18.0971784689,18.102997956,18.1389566974,126.611800691,126.540709713,126.813244455,127.219245486,561.69573645,529.033910415,560.441086503\r\n"
     ]
    }
   ],
   "source": [
    "!cat ../output/aufgabe_1.csv"
   ]
  },
  {
   "cell_type": "code",
   "execution_count": 145,
   "metadata": {},
   "outputs": [
    {
     "name": "stdout",
     "output_type": "stream",
     "text": [
      "      21\r\n"
     ]
    }
   ],
   "source": [
    "!cat ../output/aufgabe_1.csv | wc -l"
   ]
  },
  {
   "cell_type": "code",
   "execution_count": 146,
   "metadata": {},
   "outputs": [
    {
     "data": {
      "text/plain": [
       "20"
      ]
     },
     "execution_count": 146,
     "metadata": {},
     "output_type": "execute_result"
    }
   ],
   "source": [
    "len(final_data)"
   ]
  },
  {
   "cell_type": "code",
   "execution_count": null,
   "metadata": {
    "collapsed": true
   },
   "outputs": [],
   "source": []
  }
 ],
 "metadata": {
  "kernelspec": {
   "display_name": "Python 3",
   "language": "python",
   "name": "python3"
  },
  "language_info": {
   "codemirror_mode": {
    "name": "ipython",
    "version": 3
   },
   "file_extension": ".py",
   "mimetype": "text/x-python",
   "name": "python",
   "nbconvert_exporter": "python",
   "pygments_lexer": "ipython3",
   "version": "3.6.1"
  },
  "latex_envs": {
   "LaTeX_envs_menu_present": true,
   "autocomplete": true,
   "bibliofile": "biblio.bib",
   "cite_by": "apalike",
   "current_citInitial": 1,
   "eqLabelWithNumbers": true,
   "eqNumInitial": 1,
   "hotkeys": {
    "equation": "Ctrl-E",
    "itemize": "Ctrl-I"
   },
   "labels_anchors": false,
   "latex_user_defs": false,
   "report_style_numbering": false,
   "user_envs_cfg": false
  }
 },
 "nbformat": 4,
 "nbformat_minor": 2
}
