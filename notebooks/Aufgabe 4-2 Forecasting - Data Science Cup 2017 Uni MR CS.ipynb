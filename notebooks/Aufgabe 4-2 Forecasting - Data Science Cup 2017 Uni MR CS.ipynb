{
 "cells": [
  {
   "cell_type": "code",
   "execution_count": 1,
   "metadata": {
    "collapsed": true
   },
   "outputs": [],
   "source": [
    "import pandas as pd\n",
    "import numpy as np\n",
    "from tqdm import tnrange, tqdm_notebook\n",
    "from fbprophet import Prophet"
   ]
  },
  {
   "cell_type": "markdown",
   "metadata": {
    "collapsed": true
   },
   "source": [
    "## Forecasting für Januar 2016"
   ]
  },
  {
   "cell_type": "code",
   "execution_count": 2,
   "metadata": {},
   "outputs": [
    {
     "name": "stdout",
     "output_type": "stream",
     "text": [
      "df_antibiotics.csv                 df_tengu_imputed.csv\r\n",
      "df_antibiotics_imputed.csv         df_tritanium.csv\r\n",
      "df_nanite_repair_paste.csv         df_tritanium_imputed.csv\r\n",
      "df_nanite_repair_paste_imputed.csv df_veldspar.csv\r\n",
      "df_tengu.csv                       df_veldspar_imputed.csv\r\n"
     ]
    }
   ],
   "source": [
    "!ls ../output"
   ]
  },
  {
   "cell_type": "code",
   "execution_count": 3,
   "metadata": {
    "collapsed": true
   },
   "outputs": [],
   "source": [
    "imputed_dfs = {\n",
    "    'tritanium': '../output/df_tritanium_imputed.csv',\n",
    "    'veldspar': '../output/df_veldspar_imputed.csv',\n",
    "    'antibiotics': '../output/df_antibiotics_imputed.csv',\n",
    "    'nanite repair paste': '../output/df_nanite_repair_paste_imputed.csv',\n",
    "    'tengu': '../output/df_tengu_imputed.csv'\n",
    "}"
   ]
  },
  {
   "cell_type": "code",
   "execution_count": null,
   "metadata": {
    "collapsed": true
   },
   "outputs": [],
   "source": [
    "def days_to_predict(df, target_date=\"2016-01-31\"):\n",
    "    last_example = pd.to_datetime(df['time'].values[-1])\n",
    "    last_prediction = pd.to_datetime(target_date)\n",
    "\n",
    "    return (last_prediction - last_example).days\n",
    "\n",
    "def rename_fix_df(df, ycol):\n",
    "    return df.rename(index=str, columns={\n",
    "        'time': 'ds',\n",
    "        ycol: 'y'\n",
    "    }).fillna(0)\n",
    "\n",
    "def fit_product_and_station(df, station_id):\n",
    "    \"\"\"\n",
    "    Returns\n",
    "    -------\n",
    "    (demand_forecast, price_forecast) : (pd.DataFrame, pd.DataFrame)\n",
    "        A tuple of pandas data frames, where either or both can be None.\n",
    "        In case the prediction target is completely zero, no forecasts\n",
    "        are made and the respective component is returned as None.\n",
    "        Consider these forecasts as zero.\n",
    "    \"\"\"\n",
    "    df_station = df[df['stationid'] == station_id]\n",
    "\n",
    "    assert df_station.shape[0] > 0, \"no such station in the data\"\n",
    "    target = days_to_predict(df_station)\n",
    "\n",
    "    # price\n",
    "    if not np.isnan(df_station['dem_avg_p']).all():\n",
    "        df_price = rename_fix_df(df_station[['dem_avg_p', 'time']], 'dem_avg_p')\n",
    "\n",
    "        pp = Prophet()\n",
    "        pp.fit(df_price)\n",
    "        pfuture = pp.make_future_dataframe(periods=target)\n",
    "        pforecast = pp.predict(pfuture)\n",
    "    else:\n",
    "        pforecast = None\n",
    "\n",
    "    # demand\n",
    "    if not np.isnan(df_station['demand']).all():\n",
    "        df_demand = rename_fix_df(df_station[['demand', 'time']], 'demand')\n",
    "\n",
    "        dp = Prophet()\n",
    "        dp.fit(df_demand)\n",
    "        dfuture = dp.make_future_dataframe(periods=target)\n",
    "        dforecast = dp.predict(dfuture)\n",
    "    else:\n",
    "        dforecast = None\n",
    "\n",
    "    return (dforecast, pforecast)"
   ]
  },
  {
   "cell_type": "markdown",
   "metadata": {},
   "source": [
    "## Forecasts"
   ]
  },
  {
   "cell_type": "code",
   "execution_count": null,
   "metadata": {
    "collapsed": true
   },
   "outputs": [
    {
     "name": "stderr",
     "output_type": "stream",
     "text": [
      "Widget Javascript not detected.  It may not be installed properly. Did you enable the widgetsnbextension? If not, then run \"jupyter nbextension enable --py --sys-prefix widgetsnbextension\"\n",
      "Widget Javascript not detected.  It may not be installed properly. Did you enable the widgetsnbextension? If not, then run \"jupyter nbextension enable --py --sys-prefix widgetsnbextension\"\n"
     ]
    }
   ],
   "source": [
    "from tqdm import tqdm_notebook\n",
    "\n",
    "idx = []\n",
    "fs = []\n",
    "\n",
    "for k in tqdm_notebook(imputed_dfs.keys(), desc='products'):\n",
    "    df = pd.read_csv(imputed_dfs[k])\n",
    "    stations = df['stationid'].unique()\n",
    "    _idx = []\n",
    "    _fs = []\n",
    "\n",
    "    for station in tqdm_notebook(stations, desc='stations'):\n",
    "        _idx.append(station)\n",
    "        _fs.append(fit_product_and_station(df, station))\n",
    "        \n",
    "    idx.append(_idx)\n",
    "    fs.append(_fs)"
   ]
  },
  {
   "cell_type": "code",
   "execution_count": 100,
   "metadata": {
    "collapsed": true
   },
   "outputs": [],
   "source": [
    "dfd, dfp = fs[0][0]\n",
    "dfd = dfd[dfd['ds'] >= pd.to_datetime(\"2016-01-01\")]\n",
    "dfp = dfp[dfp['ds'] >= pd.to_datetime(\"2016-01-01\")]\n",
    "\n",
    "cols = ['product', 'stationid'] \\\n",
    "+ ['d' + str(d).split('T')[0] for d in dfd['ds'].unique()] \\\n",
    "+ ['p' + str(d).split('T')[0] for d in dfp['ds'].unique()]\n",
    "# print(','.join(cols))"
   ]
  },
  {
   "cell_type": "code",
   "execution_count": 111,
   "metadata": {},
   "outputs": [
    {
     "name": "stdout",
     "output_type": "stream",
     "text": [
      "rm: ../output/forecasts.csv: No such file or directory\r\n"
     ]
    }
   ],
   "source": [
    "!rm ../output/forecasts.csv"
   ]
  },
  {
   "cell_type": "code",
   "execution_count": 112,
   "metadata": {},
   "outputs": [
    {
     "name": "stderr",
     "output_type": "stream",
     "text": [
      "The installed widget Javascript is the wrong version.\n",
      "The installed widget Javascript is the wrong version.\n",
      "The installed widget Javascript is the wrong version.\n",
      "The installed widget Javascript is the wrong version.\n",
      "The installed widget Javascript is the wrong version.\n",
      "The installed widget Javascript is the wrong version.\n"
     ]
    },
    {
     "name": "stdout",
     "output_type": "stream",
     "text": [
      "\n"
     ]
    }
   ],
   "source": [
    "keys = list(imputed_dfs.keys())\n",
    "\n",
    "OUT_PATH = '../output/forecasts.csv'\n",
    "with open(OUT_PATH, 'a') as f:\n",
    "    f.write(','.join(cols) + '\\n')\n",
    "\n",
    "for i in tqdm_notebook(range(len(fs)), desc='products'):\n",
    "    for j in tqdm_notebook(range(len(fs[i])), desc='stations'):\n",
    "        dfd, dfp = fs[i][j]\n",
    "        d = [keys[i], idx[i][j]]\n",
    "\n",
    "        if dfd is not None:\n",
    "            dfd = dfd[dfd['ds'] >= pd.to_datetime(\"2016-01-01\")]\n",
    "            d += [\"%.2f\" % x for x in dfd['yhat'].values.tolist()]\n",
    "        else:\n",
    "            d += [\"0.0\"] * 31\n",
    "\n",
    "        if dfp is not None:\n",
    "            dfp = dfp[dfp['ds'] >= pd.to_datetime(\"2016-01-01\")]\n",
    "            d += [\"%.2f\" % x for x in dfp['yhat'].values.tolist()]\n",
    "        else:\n",
    "            d += [\"0.0\"] * 31\n",
    "\n",
    "        with open(OUT_PATH, 'a') as f:\n",
    "            data = dict(zip(cols, d))\n",
    "            df = pd.DataFrame(data, columns=cols, index=[0])\n",
    "            df.to_csv(f, index=False, header=False)"
   ]
  },
  {
   "cell_type": "code",
   "execution_count": null,
   "metadata": {
    "collapsed": true
   },
   "outputs": [],
   "source": []
  },
  {
   "cell_type": "code",
   "execution_count": null,
   "metadata": {
    "collapsed": true
   },
   "outputs": [],
   "source": []
  }
 ],
 "metadata": {
  "kernelspec": {
   "display_name": "Python 3",
   "language": "python",
   "name": "python3"
  },
  "language_info": {
   "codemirror_mode": {
    "name": "ipython",
    "version": 3
   },
   "file_extension": ".py",
   "mimetype": "text/x-python",
   "name": "python",
   "nbconvert_exporter": "python",
   "pygments_lexer": "ipython3",
   "version": "3.6.1"
  },
  "latex_envs": {
   "LaTeX_envs_menu_present": true,
   "autocomplete": true,
   "bibliofile": "biblio.bib",
   "cite_by": "apalike",
   "current_citInitial": 1,
   "eqLabelWithNumbers": true,
   "eqNumInitial": 1,
   "hotkeys": {
    "equation": "Ctrl-E",
    "itemize": "Ctrl-I"
   },
   "labels_anchors": false,
   "latex_user_defs": false,
   "report_style_numbering": false,
   "user_envs_cfg": false
  }
 },
 "nbformat": 4,
 "nbformat_minor": 2
}
